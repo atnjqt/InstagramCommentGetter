{
 "cells": [
  {
   "cell_type": "markdown",
   "metadata": {},
   "source": [
    "### Looking at commentGetter results for IG post: https://www.instagram.com/p/B61fZE1n9Nv/"
   ]
  },
  {
   "cell_type": "code",
   "execution_count": 1,
   "metadata": {},
   "outputs": [],
   "source": [
    "import os\n",
    "import pandas as pd"
   ]
  },
  {
   "cell_type": "code",
   "execution_count": 3,
   "metadata": {},
   "outputs": [],
   "source": [
    "B61fZE1n9Nv_df = pd.read_json('./data/B61fZE1n9Nv.json')"
   ]
  },
  {
   "cell_type": "code",
   "execution_count": 21,
   "metadata": {},
   "outputs": [],
   "source": [
    "wwe_df = pd.read_json('/Users/etiennejacquot/Documents/Bitbucket/wwe-instagram-rekogcomments/docker_comment_getter2/configs/wwe_df.json')"
   ]
  },
  {
   "cell_type": "code",
   "execution_count": 29,
   "metadata": {},
   "outputs": [
    {
     "data": {
      "text/html": [
       "<div>\n",
       "<style scoped>\n",
       "    .dataframe tbody tr th:only-of-type {\n",
       "        vertical-align: middle;\n",
       "    }\n",
       "\n",
       "    .dataframe tbody tr th {\n",
       "        vertical-align: top;\n",
       "    }\n",
       "\n",
       "    .dataframe thead th {\n",
       "        text-align: right;\n",
       "    }\n",
       "</style>\n",
       "<table border=\"1\" class=\"dataframe\">\n",
       "  <thead>\n",
       "    <tr style=\"text-align: right;\">\n",
       "      <th></th>\n",
       "      <th>posturl</th>\n",
       "      <th>description</th>\n",
       "      <th>commentcount</th>\n",
       "      <th>likecount</th>\n",
       "      <th>location</th>\n",
       "      <th>locationid</th>\n",
       "      <th>pubdate</th>\n",
       "      <th>issidecar</th>\n",
       "      <th>profileurl</th>\n",
       "      <th>username</th>\n",
       "      <th>...</th>\n",
       "      <th>taggedusername1</th>\n",
       "      <th>taggedfullname2</th>\n",
       "      <th>taggedusername2</th>\n",
       "      <th>taggedfullname3</th>\n",
       "      <th>taggedusername3</th>\n",
       "      <th>finalurl</th>\n",
       "      <th>pubyear</th>\n",
       "      <th>pubmonth</th>\n",
       "      <th>pubday</th>\n",
       "      <th>category</th>\n",
       "    </tr>\n",
       "  </thead>\n",
       "  <tbody>\n",
       "    <tr>\n",
       "      <td>23244</td>\n",
       "      <td>https://www.instagram.com/p/B61fZE1n9Nv/</td>\n",
       "      <td>Caption this...... best caption gets an ig sto...</td>\n",
       "      <td>7285</td>\n",
       "      <td>135461</td>\n",
       "      <td>Los Angeles, California</td>\n",
       "      <td>212999109.0</td>\n",
       "      <td>2020-01-02T23:31:10.000Z</td>\n",
       "      <td>NaN</td>\n",
       "      <td>https://www.instagram.com/thelanawwe/</td>\n",
       "      <td>thelanawwe</td>\n",
       "      <td>...</td>\n",
       "      <td>kamilledoeshair</td>\n",
       "      <td>Frederika Arti Martesor</td>\n",
       "      <td>frederikaartimartesor</td>\n",
       "      <td>None</td>\n",
       "      <td>None</td>\n",
       "      <td>https://imghost.asc.upenn.edu/Instagram/thelan...</td>\n",
       "      <td>2020</td>\n",
       "      <td>1</td>\n",
       "      <td>2</td>\n",
       "      <td>WWEWrestler</td>\n",
       "    </tr>\n",
       "  </tbody>\n",
       "</table>\n",
       "<p>1 rows × 30 columns</p>\n",
       "</div>"
      ],
      "text/plain": [
       "                                        posturl  \\\n",
       "23244  https://www.instagram.com/p/B61fZE1n9Nv/   \n",
       "\n",
       "                                             description  commentcount  \\\n",
       "23244  Caption this...... best caption gets an ig sto...          7285   \n",
       "\n",
       "       likecount                 location   locationid  \\\n",
       "23244     135461  Los Angeles, California  212999109.0   \n",
       "\n",
       "                        pubdate  issidecar  \\\n",
       "23244  2020-01-02T23:31:10.000Z        NaN   \n",
       "\n",
       "                                  profileurl    username  ...  \\\n",
       "23244  https://www.instagram.com/thelanawwe/  thelanawwe  ...   \n",
       "\n",
       "       taggedusername1          taggedfullname2        taggedusername2  \\\n",
       "23244  kamilledoeshair  Frederika Arti Martesor  frederikaartimartesor   \n",
       "\n",
       "       taggedfullname3 taggedusername3  \\\n",
       "23244             None            None   \n",
       "\n",
       "                                                finalurl pubyear pubmonth  \\\n",
       "23244  https://imghost.asc.upenn.edu/Instagram/thelan...    2020        1   \n",
       "\n",
       "       pubday     category  \n",
       "23244       2  WWEWrestler  \n",
       "\n",
       "[1 rows x 30 columns]"
      ]
     },
     "execution_count": 29,
     "metadata": {},
     "output_type": "execute_result"
    }
   ],
   "source": [
    "wwe_df[wwe_df.posturl.str.contains('B61fZE1n9Nv')]"
   ]
  },
  {
   "cell_type": "code",
   "execution_count": 44,
   "metadata": {},
   "outputs": [],
   "source": [
    "percentage_of_comments = round((B61fZE1n9Nv_df.shape[0] / wwe_df[wwe_df.posturl.str.contains('B61fZE1n9Nv')].commentcount.values * 100)[0],2)"
   ]
  },
  {
   "cell_type": "markdown",
   "metadata": {},
   "source": [
    "______\n",
    "### docker-compose `commentGetter` returned:\n",
    "\n",
    "- This isn't perfect obviously... But at least it's more than half of the comments in the `wwe_df` *at the time of collecting data*!\n"
   ]
  },
  {
   "cell_type": "code",
   "execution_count": 57,
   "metadata": {},
   "outputs": [
    {
     "name": "stdout",
     "output_type": "stream",
     "text": [
      "67.76% of the comments for https://www.instagram.com/p/B61fZE1n9Nv/\n"
     ]
    }
   ],
   "source": [
    "print('{}% of the comments for {}'.format(percentage_of_comments,wwe_df[wwe_df.posturl.str.contains('B61fZE1n9Nv')].posturl.values[0]))"
   ]
  }
 ],
 "metadata": {
  "kernelspec": {
   "display_name": "Python 3",
   "language": "python",
   "name": "python3"
  },
  "language_info": {
   "codemirror_mode": {
    "name": "ipython",
    "version": 3
   },
   "file_extension": ".py",
   "mimetype": "text/x-python",
   "name": "python",
   "nbconvert_exporter": "python",
   "pygments_lexer": "ipython3",
   "version": "3.7.4"
  }
 },
 "nbformat": 4,
 "nbformat_minor": 2
}
